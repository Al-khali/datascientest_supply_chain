{
 "cells": [
  {
   "cell_type": "markdown",
   "id": "7bde07d0",
   "metadata": {},
   "source": [
    "# Cadrage du projet et définition des KPIs\n",
    "\n",
    "Ce notebook sert à cadrer le projet, lister les besoins, et définir les premiers indicateurs clés de performance (KPIs)."
   ]
  },
  {
   "cell_type": "markdown",
   "id": "cab1db08",
   "metadata": {},
   "source": [
    "## Problématiques à adresser\n",
    "- Qualité de la livraison\n",
    "- Délai de livraison\n",
    "- Conformité du produit\n",
    "- Réactivité du service client"
   ]
  },
  {
   "cell_type": "markdown",
   "id": "000bc535",
   "metadata": {},
   "source": [
    "## Sources de données potentielles\n",
    "- Trustpilot\n",
    "- Sites distributeurs\n",
    "- Réseaux sociaux (Twitter, Facebook, etc.)"
   ]
  },
  {
   "cell_type": "markdown",
   "id": "6115285e",
   "metadata": {},
   "source": [
    "## KPIs proposés\n",
    "| KPI | Description |\n",
    "|-----|-------------|\n",
    "| Note moyenne | Moyenne des notes clients |\n",
    "| % avis négatifs | Part des avis < 3/5 |\n",
    "| Délai moyen de réponse SAV | Temps moyen de traitement d'une réclamation |\n",
    "| Taux de réclamation | Nombre de réclamations / nombre de commandes |"
   ]
  },
  {
   "cell_type": "markdown",
   "id": "cffff048",
   "metadata": {},
   "source": [
    "## Cartographie des ressources\n",
    "- Humaines : Data scientist, Product Owner, DevOps\n",
    "- Techniques : Python, pandas, scikit-learn, Streamlit\n",
    "- Données : CSV, API, web scraping"
   ]
  },
  {
   "cell_type": "markdown",
   "id": "73fc2940",
   "metadata": {},
   "source": [
    "# Cadrage métier et KPIs\n",
    "\n",
    "## Synthèse métier\n",
    "La satisfaction client dans la supply chain est un enjeu stratégique pour garantir la fidélité, la réputation et la performance commerciale. Les clients expriment leurs attentes sur la qualité des produits, la rapidité de livraison, la gestion des incidents et la réactivité du service client. L’analyse des avis permet d’identifier les points forts et les axes d’amélioration tout au long du parcours client."
   ]
  },
  {
   "cell_type": "markdown",
   "id": "0439295e",
   "metadata": {},
   "source": [
    "## Analyse des besoins\n",
    "- Suivre la qualité perçue sur l’ensemble du parcours (commande, livraison, SAV)\n",
    "- Détecter rapidement les motifs d’insatisfaction récurrents\n",
    "- Prioriser les actions correctives (logistique, produit, service client)\n",
    "- Piloter l’évolution de la satisfaction dans le temps et par segment"
   ]
  },
  {
   "cell_type": "markdown",
   "id": "b2e18a89",
   "metadata": {},
   "source": [
    "## KPIs sélectionnés et justification\n",
    "| KPI | Justification |\n",
    "|-----|---------------|\n",
    "| Note moyenne globale | Indicateur synthétique de la satisfaction perçue sur l’ensemble du parcours |\n",
    "| % avis négatifs (<3/5) | Permet de cibler les motifs d’insatisfaction et d’alerter rapidement |\n",
    "| Délai moyen de résolution SAV | Mesure la réactivité opérationnelle et l’efficacité du support |\n",
    "| Taux de réclamation | Permet de suivre l’évolution des incidents rapportés par rapport au volume de commandes |"
   ]
  },
  {
   "cell_type": "markdown",
   "id": "ff436246",
   "metadata": {},
   "source": [
    "## Ressources mobilisables\n",
    "- Humaines : Data scientist, Product Owner, DevOps, expert métier supply chain\n",
    "- Techniques : Python, pandas, scikit-learn, Streamlit, Docker\n",
    "- Données : API Trustpilot, scraping sites distributeurs, extraction Twitter"
   ]
  }
 ],
 "metadata": {
  "language_info": {
   "name": "python"
  }
 },
 "nbformat": 4,
 "nbformat_minor": 5
}
