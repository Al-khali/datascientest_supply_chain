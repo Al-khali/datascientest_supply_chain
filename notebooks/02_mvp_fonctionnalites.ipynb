{
 "cells": [
  {
   "cell_type": "markdown",
   "id": "02d5d610",
   "metadata": {},
   "source": [
    "# Conception du MVP\n",
    "\n",
    "Ce notebook sert à lister/prioriser les fonctionnalités du MVP et à définir le schéma de la base de données."
   ]
  },
  {
   "cell_type": "markdown",
   "id": "58c8e45f",
   "metadata": {},
   "source": [
    "## Fonctionnalités minimales (priorisées)\n",
    "1. Collecte automatisée des avis (API Trustpilot, scraping distributeurs, extraction Twitter)\n",
    "2. Pipeline de nettoyage et structuration (suppression doublons, anonymisation, détection langue)\n",
    "3. Analyse de sentiment et extraction des motifs d’insatisfaction (NLP, classification)\n",
    "4. Dashboard interactif (Streamlit) avec filtres par canal, période, motif\n",
    "5. Export des résultats (CSV, Excel) et API REST pour intégration SI"
   ]
  },
  {
   "cell_type": "markdown",
   "id": "1e2ea0be",
   "metadata": {},
   "source": [
    "## Schéma de la base de données\n",
    "| Table      | Champs principaux                                      |\n",
    "|------------|--------------------------------------------------------|\n",
    "| avis       | id, auteur, commentaire, note, date, source, langue, anonymise |\n",
    "| reclamation| id, id_avis, type, date_ouverture, date_cloture, statut |\n",
    "| utilisateurs| id, nom, rôle                                         |"
   ]
  },
  {
   "cell_type": "markdown",
   "id": "67eacc86",
   "metadata": {},
   "source": [
    "## Contraintes à intégrer\n",
    "- RGPD : anonymisation, consentement, purge automatique\n",
    "- Accessibilité : dashboard compatible lecteurs d’écran\n",
    "- RSE : stockage optimisé, logs d’audit"
   ]
  }
 ],
 "metadata": {
  "language_info": {
   "name": "python"
  }
 },
 "nbformat": 4,
 "nbformat_minor": 5
}
