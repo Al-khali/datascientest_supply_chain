{
 "cells": [
  {
   "cell_type": "markdown",
   "id": "a34dee1b",
   "metadata": {},
   "source": [
    "# Exploration initiale des avis clients\n",
    "\n",
    "Ce notebook permet de charger les premiers avis collectés et de faire une première analyse descriptive."
   ]
  },
  {
   "cell_type": "code",
   "execution_count": null,
   "id": "2bdc3c9d",
   "metadata": {},
   "outputs": [],
   "source": [
    "import pandas as pd\n",
    "df = pd.read_csv('../data/avis_sample.csv')\n",
    "df.head()"
   ]
  },
  {
   "cell_type": "code",
   "execution_count": null,
   "id": "4f277f81",
   "metadata": {},
   "outputs": [],
   "source": [
    "df['note'].describe()"
   ]
  }
 ],
 "metadata": {
  "language_info": {
   "name": "python"
  }
 },
 "nbformat": 4,
 "nbformat_minor": 5
}
